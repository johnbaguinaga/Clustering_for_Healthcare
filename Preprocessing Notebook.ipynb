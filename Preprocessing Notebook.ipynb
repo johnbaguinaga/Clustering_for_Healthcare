{
  "cells": [
    {
      "cell_type": "markdown",
      "metadata": {
        "id": "7OZMn8uNO5nU"
      },
      "source": [
        "# Uploading libraries and intial csv file, looking over data"
      ]
    },
    {
      "cell_type": "code",
      "source": [
        "from google.colab import drive\n",
        "drive.mount('/content/drive', force_remount = True)"
      ],
      "metadata": {
        "colab": {
          "base_uri": "https://localhost:8080/"
        },
        "id": "2sesT2g2TyNU",
        "outputId": "ebc3b4a2-0e3a-49fe-811c-c976ec73c7f9"
      },
      "execution_count": null,
      "outputs": [
        {
          "output_type": "stream",
          "name": "stdout",
          "text": [
            "Mounted at /content/drive\n"
          ]
        }
      ]
    },
    {
      "cell_type": "code",
      "execution_count": null,
      "metadata": {
        "id": "VfzYnxF8O5nZ"
      },
      "outputs": [],
      "source": [
        "import pandas as pd\n",
        "import numpy as np\n",
        "from matplotlib import pyplot as plt\n",
        "%matplotlib inline"
      ]
    },
    {
      "cell_type": "code",
      "source": [
        "path = \"/content/drive/MyDrive/Data Problems Dataset/Hospital Inpatient Discharges.csv\""
      ],
      "metadata": {
        "id": "LllAFB7LU9A7"
      },
      "execution_count": null,
      "outputs": []
    },
    {
      "cell_type": "code",
      "execution_count": null,
      "metadata": {
        "colab": {
          "base_uri": "https://localhost:8080/"
        },
        "id": "oAbEGDFbO5nc",
        "outputId": "5698cd43-e529-4df2-8577-68ceff2630a3"
      },
      "outputs": [
        {
          "output_type": "stream",
          "name": "stderr",
          "text": [
            "<ipython-input-100-7b06c29b8c94>:1: DtypeWarning: Columns (10) have mixed types. Specify dtype option on import or set low_memory=False.\n",
            "  df = pd.read_csv(path)\n"
          ]
        }
      ],
      "source": [
        "df = pd.read_csv(path)"
      ]
    },
    {
      "cell_type": "code",
      "execution_count": null,
      "metadata": {
        "colab": {
          "base_uri": "https://localhost:8080/"
        },
        "id": "V4krFdClO5nd",
        "outputId": "7e89d9bf-7585-4f57-fc88-a130f8db3385"
      },
      "outputs": [
        {
          "output_type": "execute_result",
          "data": {
            "text/plain": [
              "Index(['Health Service Area', 'Hospital County',\n",
              "       'Operating Certificate Number', 'Facility ID', 'Facility Name',\n",
              "       'Age Group', 'Zip Code - 3 digits', 'Gender', 'Race', 'Ethnicity',\n",
              "       'Length of Stay', 'Type of Admission', 'Patient Disposition',\n",
              "       'Discharge Year', 'CCS Diagnosis Code', 'CCS Diagnosis Description',\n",
              "       'CCS Procedure Code', 'CCS Procedure Description', 'APR DRG Code',\n",
              "       'APR DRG Description', 'APR MDC Code', 'APR MDC Description',\n",
              "       'APR Severity of Illness Code', 'APR Severity of Illness Description',\n",
              "       'APR Risk of Mortality', 'APR Medical Surgical Description',\n",
              "       'Payment Typology 1', 'Payment Typology 2', 'Payment Typology 3',\n",
              "       'Birth Weight', 'Abortion Edit Indicator',\n",
              "       'Emergency Department Indicator', 'Total Charges', 'Total Costs'],\n",
              "      dtype='object')"
            ]
          },
          "metadata": {},
          "execution_count": 101
        }
      ],
      "source": [
        "df.columns"
      ]
    },
    {
      "cell_type": "code",
      "execution_count": null,
      "metadata": {
        "colab": {
          "base_uri": "https://localhost:8080/"
        },
        "id": "I0WyFECBO5ne",
        "outputId": "2f8b90a8-2c8f-4e56-ee23-4612f6b051a6"
      },
      "outputs": [
        {
          "output_type": "execute_result",
          "data": {
            "text/plain": [
              "(2544543, 34)"
            ]
          },
          "metadata": {},
          "execution_count": 102
        }
      ],
      "source": [
        "df.shape"
      ]
    },
    {
      "cell_type": "code",
      "execution_count": null,
      "metadata": {
        "colab": {
          "base_uri": "https://localhost:8080/"
        },
        "id": "5PpgY34ZO5nf",
        "outputId": "7bdf00b9-c8c5-488d-9448-150f25469f31"
      },
      "outputs": [
        {
          "output_type": "execute_result",
          "data": {
            "text/plain": [
              "  Health Service Area Hospital County  Operating Certificate Number  \\\n",
              "0          Western NY        Allegany                      226700.0   \n",
              "1          Western NY        Allegany                      226700.0   \n",
              "2          Western NY        Allegany                      226700.0   \n",
              "3          Western NY        Allegany                      226700.0   \n",
              "4          Western NY        Allegany                      226700.0   \n",
              "\n",
              "   Facility ID               Facility Name    Age Group Zip Code - 3 digits  \\\n",
              "0         37.0  Cuba Memorial Hospital Inc     30 to 49                 147   \n",
              "1         37.0  Cuba Memorial Hospital Inc  70 or Older                 147   \n",
              "2         37.0  Cuba Memorial Hospital Inc     30 to 49                 147   \n",
              "3         37.0  Cuba Memorial Hospital Inc      0 to 17                 147   \n",
              "4         37.0  Cuba Memorial Hospital Inc  70 or Older                 147   \n",
              "\n",
              "  Gender   Race          Ethnicity  ... APR Risk of Mortality  \\\n",
              "0      F  White  Not Span/Hispanic  ...                 Minor   \n",
              "1      F  White  Not Span/Hispanic  ...                 Major   \n",
              "2      F  White  Not Span/Hispanic  ...                 Minor   \n",
              "3      F  White  Not Span/Hispanic  ...                 Minor   \n",
              "4      F  White  Not Span/Hispanic  ...              Moderate   \n",
              "\n",
              "  APR Medical Surgical Description        Payment Typology 1  \\\n",
              "0                          Medical    Blue Cross/Blue Shield   \n",
              "1                          Medical                  Medicare   \n",
              "2                          Medical    Blue Cross/Blue Shield   \n",
              "3                          Medical  Private Health Insurance   \n",
              "4                          Medical                  Medicare   \n",
              "\n",
              "   Payment Typology 2  Payment Typology 3 Birth Weight  \\\n",
              "0                 NaN                 NaN            0   \n",
              "1                 NaN                 NaN            0   \n",
              "2                 NaN                 NaN            0   \n",
              "3                 NaN                 NaN            0   \n",
              "4                 NaN                 NaN            0   \n",
              "\n",
              "   Abortion Edit Indicator Emergency Department Indicator  Total Charges  \\\n",
              "0                        N                              Y       5,511.95   \n",
              "1                        N                              Y       4,783.20   \n",
              "2                        N                              Y       3,829.15   \n",
              "3                        N                              Y       1,108.20   \n",
              "4                        N                              Y       3,418.18   \n",
              "\n",
              "  Total Costs  \n",
              "0    5,582.49  \n",
              "1    5,162.82  \n",
              "2    4,056.52  \n",
              "3    1,644.75  \n",
              "4    3,370.87  \n",
              "\n",
              "[5 rows x 34 columns]"
            ],
            "text/html": [
              "\n",
              "  <div id=\"df-e4ecede5-fa39-42c2-be36-333710622e51\">\n",
              "    <div class=\"colab-df-container\">\n",
              "      <div>\n",
              "<style scoped>\n",
              "    .dataframe tbody tr th:only-of-type {\n",
              "        vertical-align: middle;\n",
              "    }\n",
              "\n",
              "    .dataframe tbody tr th {\n",
              "        vertical-align: top;\n",
              "    }\n",
              "\n",
              "    .dataframe thead th {\n",
              "        text-align: right;\n",
              "    }\n",
              "</style>\n",
              "<table border=\"1\" class=\"dataframe\">\n",
              "  <thead>\n",
              "    <tr style=\"text-align: right;\">\n",
              "      <th></th>\n",
              "      <th>Health Service Area</th>\n",
              "      <th>Hospital County</th>\n",
              "      <th>Operating Certificate Number</th>\n",
              "      <th>Facility ID</th>\n",
              "      <th>Facility Name</th>\n",
              "      <th>Age Group</th>\n",
              "      <th>Zip Code - 3 digits</th>\n",
              "      <th>Gender</th>\n",
              "      <th>Race</th>\n",
              "      <th>Ethnicity</th>\n",
              "      <th>...</th>\n",
              "      <th>APR Risk of Mortality</th>\n",
              "      <th>APR Medical Surgical Description</th>\n",
              "      <th>Payment Typology 1</th>\n",
              "      <th>Payment Typology 2</th>\n",
              "      <th>Payment Typology 3</th>\n",
              "      <th>Birth Weight</th>\n",
              "      <th>Abortion Edit Indicator</th>\n",
              "      <th>Emergency Department Indicator</th>\n",
              "      <th>Total Charges</th>\n",
              "      <th>Total Costs</th>\n",
              "    </tr>\n",
              "  </thead>\n",
              "  <tbody>\n",
              "    <tr>\n",
              "      <th>0</th>\n",
              "      <td>Western NY</td>\n",
              "      <td>Allegany</td>\n",
              "      <td>226700.0</td>\n",
              "      <td>37.0</td>\n",
              "      <td>Cuba Memorial Hospital Inc</td>\n",
              "      <td>30 to 49</td>\n",
              "      <td>147</td>\n",
              "      <td>F</td>\n",
              "      <td>White</td>\n",
              "      <td>Not Span/Hispanic</td>\n",
              "      <td>...</td>\n",
              "      <td>Minor</td>\n",
              "      <td>Medical</td>\n",
              "      <td>Blue Cross/Blue Shield</td>\n",
              "      <td>NaN</td>\n",
              "      <td>NaN</td>\n",
              "      <td>0</td>\n",
              "      <td>N</td>\n",
              "      <td>Y</td>\n",
              "      <td>5,511.95</td>\n",
              "      <td>5,582.49</td>\n",
              "    </tr>\n",
              "    <tr>\n",
              "      <th>1</th>\n",
              "      <td>Western NY</td>\n",
              "      <td>Allegany</td>\n",
              "      <td>226700.0</td>\n",
              "      <td>37.0</td>\n",
              "      <td>Cuba Memorial Hospital Inc</td>\n",
              "      <td>70 or Older</td>\n",
              "      <td>147</td>\n",
              "      <td>F</td>\n",
              "      <td>White</td>\n",
              "      <td>Not Span/Hispanic</td>\n",
              "      <td>...</td>\n",
              "      <td>Major</td>\n",
              "      <td>Medical</td>\n",
              "      <td>Medicare</td>\n",
              "      <td>NaN</td>\n",
              "      <td>NaN</td>\n",
              "      <td>0</td>\n",
              "      <td>N</td>\n",
              "      <td>Y</td>\n",
              "      <td>4,783.20</td>\n",
              "      <td>5,162.82</td>\n",
              "    </tr>\n",
              "    <tr>\n",
              "      <th>2</th>\n",
              "      <td>Western NY</td>\n",
              "      <td>Allegany</td>\n",
              "      <td>226700.0</td>\n",
              "      <td>37.0</td>\n",
              "      <td>Cuba Memorial Hospital Inc</td>\n",
              "      <td>30 to 49</td>\n",
              "      <td>147</td>\n",
              "      <td>F</td>\n",
              "      <td>White</td>\n",
              "      <td>Not Span/Hispanic</td>\n",
              "      <td>...</td>\n",
              "      <td>Minor</td>\n",
              "      <td>Medical</td>\n",
              "      <td>Blue Cross/Blue Shield</td>\n",
              "      <td>NaN</td>\n",
              "      <td>NaN</td>\n",
              "      <td>0</td>\n",
              "      <td>N</td>\n",
              "      <td>Y</td>\n",
              "      <td>3,829.15</td>\n",
              "      <td>4,056.52</td>\n",
              "    </tr>\n",
              "    <tr>\n",
              "      <th>3</th>\n",
              "      <td>Western NY</td>\n",
              "      <td>Allegany</td>\n",
              "      <td>226700.0</td>\n",
              "      <td>37.0</td>\n",
              "      <td>Cuba Memorial Hospital Inc</td>\n",
              "      <td>0 to 17</td>\n",
              "      <td>147</td>\n",
              "      <td>F</td>\n",
              "      <td>White</td>\n",
              "      <td>Not Span/Hispanic</td>\n",
              "      <td>...</td>\n",
              "      <td>Minor</td>\n",
              "      <td>Medical</td>\n",
              "      <td>Private Health Insurance</td>\n",
              "      <td>NaN</td>\n",
              "      <td>NaN</td>\n",
              "      <td>0</td>\n",
              "      <td>N</td>\n",
              "      <td>Y</td>\n",
              "      <td>1,108.20</td>\n",
              "      <td>1,644.75</td>\n",
              "    </tr>\n",
              "    <tr>\n",
              "      <th>4</th>\n",
              "      <td>Western NY</td>\n",
              "      <td>Allegany</td>\n",
              "      <td>226700.0</td>\n",
              "      <td>37.0</td>\n",
              "      <td>Cuba Memorial Hospital Inc</td>\n",
              "      <td>70 or Older</td>\n",
              "      <td>147</td>\n",
              "      <td>F</td>\n",
              "      <td>White</td>\n",
              "      <td>Not Span/Hispanic</td>\n",
              "      <td>...</td>\n",
              "      <td>Moderate</td>\n",
              "      <td>Medical</td>\n",
              "      <td>Medicare</td>\n",
              "      <td>NaN</td>\n",
              "      <td>NaN</td>\n",
              "      <td>0</td>\n",
              "      <td>N</td>\n",
              "      <td>Y</td>\n",
              "      <td>3,418.18</td>\n",
              "      <td>3,370.87</td>\n",
              "    </tr>\n",
              "  </tbody>\n",
              "</table>\n",
              "<p>5 rows × 34 columns</p>\n",
              "</div>\n",
              "      <button class=\"colab-df-convert\" onclick=\"convertToInteractive('df-e4ecede5-fa39-42c2-be36-333710622e51')\"\n",
              "              title=\"Convert this dataframe to an interactive table.\"\n",
              "              style=\"display:none;\">\n",
              "        \n",
              "  <svg xmlns=\"http://www.w3.org/2000/svg\" height=\"24px\"viewBox=\"0 0 24 24\"\n",
              "       width=\"24px\">\n",
              "    <path d=\"M0 0h24v24H0V0z\" fill=\"none\"/>\n",
              "    <path d=\"M18.56 5.44l.94 2.06.94-2.06 2.06-.94-2.06-.94-.94-2.06-.94 2.06-2.06.94zm-11 1L8.5 8.5l.94-2.06 2.06-.94-2.06-.94L8.5 2.5l-.94 2.06-2.06.94zm10 10l.94 2.06.94-2.06 2.06-.94-2.06-.94-.94-2.06-.94 2.06-2.06.94z\"/><path d=\"M17.41 7.96l-1.37-1.37c-.4-.4-.92-.59-1.43-.59-.52 0-1.04.2-1.43.59L10.3 9.45l-7.72 7.72c-.78.78-.78 2.05 0 2.83L4 21.41c.39.39.9.59 1.41.59.51 0 1.02-.2 1.41-.59l7.78-7.78 2.81-2.81c.8-.78.8-2.07 0-2.86zM5.41 20L4 18.59l7.72-7.72 1.47 1.35L5.41 20z\"/>\n",
              "  </svg>\n",
              "      </button>\n",
              "      \n",
              "  <style>\n",
              "    .colab-df-container {\n",
              "      display:flex;\n",
              "      flex-wrap:wrap;\n",
              "      gap: 12px;\n",
              "    }\n",
              "\n",
              "    .colab-df-convert {\n",
              "      background-color: #E8F0FE;\n",
              "      border: none;\n",
              "      border-radius: 50%;\n",
              "      cursor: pointer;\n",
              "      display: none;\n",
              "      fill: #1967D2;\n",
              "      height: 32px;\n",
              "      padding: 0 0 0 0;\n",
              "      width: 32px;\n",
              "    }\n",
              "\n",
              "    .colab-df-convert:hover {\n",
              "      background-color: #E2EBFA;\n",
              "      box-shadow: 0px 1px 2px rgba(60, 64, 67, 0.3), 0px 1px 3px 1px rgba(60, 64, 67, 0.15);\n",
              "      fill: #174EA6;\n",
              "    }\n",
              "\n",
              "    [theme=dark] .colab-df-convert {\n",
              "      background-color: #3B4455;\n",
              "      fill: #D2E3FC;\n",
              "    }\n",
              "\n",
              "    [theme=dark] .colab-df-convert:hover {\n",
              "      background-color: #434B5C;\n",
              "      box-shadow: 0px 1px 3px 1px rgba(0, 0, 0, 0.15);\n",
              "      filter: drop-shadow(0px 1px 2px rgba(0, 0, 0, 0.3));\n",
              "      fill: #FFFFFF;\n",
              "    }\n",
              "  </style>\n",
              "\n",
              "      <script>\n",
              "        const buttonEl =\n",
              "          document.querySelector('#df-e4ecede5-fa39-42c2-be36-333710622e51 button.colab-df-convert');\n",
              "        buttonEl.style.display =\n",
              "          google.colab.kernel.accessAllowed ? 'block' : 'none';\n",
              "\n",
              "        async function convertToInteractive(key) {\n",
              "          const element = document.querySelector('#df-e4ecede5-fa39-42c2-be36-333710622e51');\n",
              "          const dataTable =\n",
              "            await google.colab.kernel.invokeFunction('convertToInteractive',\n",
              "                                                     [key], {});\n",
              "          if (!dataTable) return;\n",
              "\n",
              "          const docLinkHtml = 'Like what you see? Visit the ' +\n",
              "            '<a target=\"_blank\" href=https://colab.research.google.com/notebooks/data_table.ipynb>data table notebook</a>'\n",
              "            + ' to learn more about interactive tables.';\n",
              "          element.innerHTML = '';\n",
              "          dataTable['output_type'] = 'display_data';\n",
              "          await google.colab.output.renderOutput(dataTable, element);\n",
              "          const docLink = document.createElement('div');\n",
              "          docLink.innerHTML = docLinkHtml;\n",
              "          element.appendChild(docLink);\n",
              "        }\n",
              "      </script>\n",
              "    </div>\n",
              "  </div>\n",
              "  "
            ]
          },
          "metadata": {},
          "execution_count": 103
        }
      ],
      "source": [
        "df.head()"
      ]
    },
    {
      "cell_type": "code",
      "execution_count": null,
      "metadata": {
        "scrolled": true,
        "colab": {
          "base_uri": "https://localhost:8080/"
        },
        "id": "_nhaCMF-O5nf",
        "outputId": "d41724c3-7484-4836-87f9-31e3412b7559"
      },
      "outputs": [
        {
          "output_type": "stream",
          "name": "stdout",
          "text": [
            "<class 'pandas.core.frame.DataFrame'>\n",
            "RangeIndex: 2544543 entries, 0 to 2544542\n",
            "Data columns (total 34 columns):\n",
            " #   Column                               Dtype  \n",
            "---  ------                               -----  \n",
            " 0   Health Service Area                  object \n",
            " 1   Hospital County                      object \n",
            " 2   Operating Certificate Number         float64\n",
            " 3   Facility ID                          float64\n",
            " 4   Facility Name                        object \n",
            " 5   Age Group                            object \n",
            " 6   Zip Code - 3 digits                  object \n",
            " 7   Gender                               object \n",
            " 8   Race                                 object \n",
            " 9   Ethnicity                            object \n",
            " 10  Length of Stay                       object \n",
            " 11  Type of Admission                    object \n",
            " 12  Patient Disposition                  object \n",
            " 13  Discharge Year                       int64  \n",
            " 14  CCS Diagnosis Code                   int64  \n",
            " 15  CCS Diagnosis Description            object \n",
            " 16  CCS Procedure Code                   int64  \n",
            " 17  CCS Procedure Description            object \n",
            " 18  APR DRG Code                         int64  \n",
            " 19  APR DRG Description                  object \n",
            " 20  APR MDC Code                         int64  \n",
            " 21  APR MDC Description                  object \n",
            " 22  APR Severity of Illness Code         int64  \n",
            " 23  APR Severity of Illness Description  object \n",
            " 24  APR Risk of Mortality                object \n",
            " 25  APR Medical Surgical Description     object \n",
            " 26  Payment Typology 1                   object \n",
            " 27  Payment Typology 2                   object \n",
            " 28  Payment Typology 3                   object \n",
            " 29  Birth Weight                         int64  \n",
            " 30  Abortion Edit Indicator              object \n",
            " 31  Emergency Department Indicator       object \n",
            " 32  Total Charges                        object \n",
            " 33  Total Costs                          object \n",
            "dtypes: float64(2), int64(7), object(25)\n",
            "memory usage: 660.1+ MB\n"
          ]
        }
      ],
      "source": [
        "df.info()"
      ]
    },
    {
      "cell_type": "markdown",
      "metadata": {
        "id": "eEgUpfbUO5ng"
      },
      "source": [
        "# Initial Cleaning"
      ]
    },
    {
      "cell_type": "code",
      "execution_count": null,
      "metadata": {
        "colab": {
          "base_uri": "https://localhost:8080/"
        },
        "id": "kSMN4HyAO5ng",
        "outputId": "0e18cfb3-f842-411c-876a-505f93195fa0"
      },
      "outputs": [
        {
          "output_type": "execute_result",
          "data": {
            "text/plain": [
              "(array([      0,       0,       1, ..., 2544539, 2544540, 2544542]),\n",
              " array([27, 28, 27, ..., 28, 28, 28]))"
            ]
          },
          "metadata": {},
          "execution_count": 105
        }
      ],
      "source": [
        "np.where(pd.isnull(df)) "
      ]
    },
    {
      "cell_type": "code",
      "execution_count": null,
      "metadata": {
        "colab": {
          "base_uri": "https://localhost:8080/"
        },
        "id": "C8zIZvgXO5nh",
        "outputId": "c7a5ba42-8d6a-4baf-951e-e96d2df43f11"
      },
      "outputs": [
        {
          "output_type": "execute_result",
          "data": {
            "text/plain": [
              "Health Service Area                                                           Western NY\n",
              "Hospital County                                                                 Allegany\n",
              "Operating Certificate Number                                                    226700.0\n",
              "Facility ID                                                                         37.0\n",
              "Facility Name                                                 Cuba Memorial Hospital Inc\n",
              "Age Group                                                                       30 to 49\n",
              "Zip Code - 3 digits                                                                  147\n",
              "Gender                                                                                 F\n",
              "Race                                                                               White\n",
              "Ethnicity                                                              Not Span/Hispanic\n",
              "Length of Stay                                                                         4\n",
              "Type of Admission                                                               Elective\n",
              "Patient Disposition                                                    Home or Self Care\n",
              "Discharge Year                                                                      2012\n",
              "CCS Diagnosis Code                                                                   122\n",
              "CCS Diagnosis Description              Pneumonia (except that caused by tuberculosis ...\n",
              "CCS Procedure Code                                                                     0\n",
              "CCS Procedure Description                                                        NO PROC\n",
              "APR DRG Code                                                                         139\n",
              "APR DRG Description                                                      Other pneumonia\n",
              "APR MDC Code                                                                           4\n",
              "APR MDC Description                     Diseases and Disorders of the Respiratory System\n",
              "APR Severity of Illness Code                                                           1\n",
              "APR Severity of Illness Description                                                Minor\n",
              "APR Risk of Mortality                                                              Minor\n",
              "APR Medical Surgical Description                                                 Medical\n",
              "Payment Typology 1                                                Blue Cross/Blue Shield\n",
              "Payment Typology 2                                                                   NaN\n",
              "Payment Typology 3                                                                   NaN\n",
              "Birth Weight                                                                           0\n",
              "Abortion Edit Indicator                                                                N\n",
              "Emergency Department Indicator                                                         Y\n",
              "Total Charges                                                                   5,511.95\n",
              "Total Costs                                                                     5,582.49\n",
              "Name: 0, dtype: object"
            ]
          },
          "metadata": {},
          "execution_count": 106
        }
      ],
      "source": [
        "df.iloc[0]"
      ]
    },
    {
      "cell_type": "code",
      "execution_count": null,
      "metadata": {
        "scrolled": true,
        "colab": {
          "base_uri": "https://localhost:8080/"
        },
        "id": "TBnuCRtVO5ni",
        "outputId": "97703b8f-4cb3-4257-a0a9-a02db3b73945"
      },
      "outputs": [
        {
          "output_type": "execute_result",
          "data": {
            "text/plain": [
              "Health Service Area                                                          Western NY\n",
              "Age Group                                                                      30 to 49\n",
              "Gender                                                                                F\n",
              "Race                                                                              White\n",
              "Ethnicity                                                             Not Span/Hispanic\n",
              "Length of Stay                                                                        4\n",
              "Type of Admission                                                              Elective\n",
              "APR MDC Description                    Diseases and Disorders of the Respiratory System\n",
              "APR Severity of Illness Description                                               Minor\n",
              "APR Risk of Mortality                                                             Minor\n",
              "APR Medical Surgical Description                                                Medical\n",
              "Name: 0, dtype: object"
            ]
          },
          "metadata": {},
          "execution_count": 107
        }
      ],
      "source": [
        "df.drop('Facility Name', axis = 1, inplace = True)\n",
        "df.drop('Operating Certificate Number', axis = 1, inplace = True)\n",
        "df.drop('Patient Disposition', axis = 1, inplace = True)\n",
        "df.drop('Zip Code - 3 digits', axis = 1, inplace = True)\n",
        "df.drop('CCS Diagnosis Code', axis = 1, inplace = True)\n",
        "df.drop('CCS Procedure Code', axis = 1, inplace = True)\n",
        "df.drop('APR DRG Code', axis = 1, inplace = True)\n",
        "df.drop('APR MDC Code', axis = 1, inplace = True)\n",
        "df.drop('APR Severity of Illness Code', axis = 1, inplace = True)\n",
        "df.drop('Payment Typology 1', axis = 1, inplace = True)\n",
        "df.drop('Payment Typology 2', axis = 1, inplace = True)\n",
        "df.drop('Payment Typology 3', axis = 1, inplace = True)\n",
        "df.drop('Hospital County', axis = 1, inplace = True)\n",
        "df.drop('Birth Weight', axis = 1, inplace = True)\n",
        "df.drop('Abortion Edit Indicator', axis = 1, inplace = True)\n",
        "df.drop('Emergency Department Indicator', axis = 1, inplace = True)\n",
        "df.drop('Total Charges', axis = 1, inplace = True)\n",
        "df.drop('Total Costs', axis = 1, inplace = True)\n",
        "df.drop('Facility ID', axis = 1, inplace = True)\n",
        "df.drop('Discharge Year', axis = 1, inplace = True)\n",
        "df.drop('CCS Diagnosis Description', axis = 1, inplace = True)\n",
        "df.drop('CCS Procedure Description', axis = 1, inplace = True)\n",
        "df.drop('APR DRG Description', axis = 1, inplace = True)\n",
        "\n",
        "df.iloc[0]"
      ]
    },
    {
      "cell_type": "code",
      "execution_count": null,
      "metadata": {
        "colab": {
          "base_uri": "https://localhost:8080/"
        },
        "id": "UQJuG2qmO5nj",
        "outputId": "a3629db5-3376-40c2-e974-afd626dcb5ae"
      },
      "outputs": [
        {
          "output_type": "execute_result",
          "data": {
            "text/plain": [
              "Health Service Area                                                                  NaN\n",
              "Age Group                                                                       30 to 49\n",
              "Gender                                                                                 M\n",
              "Race                                                                          Other Race\n",
              "Ethnicity                                                              Not Span/Hispanic\n",
              "Length of Stay                                                                         2\n",
              "Type of Admission                                                               Elective\n",
              "APR MDC Description                    Ear, Nose, Mouth, Throat and Craniofacial Dise...\n",
              "APR Severity of Illness Description                                                Major\n",
              "APR Risk of Mortality                                                           Moderate\n",
              "APR Medical Surgical Description                                                 Medical\n",
              "Name: 12, dtype: object"
            ]
          },
          "metadata": {},
          "execution_count": 108
        }
      ],
      "source": [
        "df.iloc[12]"
      ]
    },
    {
      "cell_type": "code",
      "execution_count": null,
      "metadata": {
        "colab": {
          "base_uri": "https://localhost:8080/"
        },
        "id": "CN9heCUkO5nj",
        "outputId": "ba786b3d-a7c2-4014-9db5-354a9275d146"
      },
      "outputs": [
        {
          "output_type": "execute_result",
          "data": {
            "text/plain": [
              "(array([     12,      16,      33, ..., 2541840, 2542236, 2543938]),\n",
              " array([0, 0, 0, ..., 0, 0, 0]))"
            ]
          },
          "metadata": {},
          "execution_count": 109
        }
      ],
      "source": [
        "np.where(pd.isnull(df)) "
      ]
    },
    {
      "cell_type": "code",
      "execution_count": null,
      "metadata": {
        "colab": {
          "base_uri": "https://localhost:8080/"
        },
        "id": "8wpYW5_nO5nk",
        "outputId": "55a90125-a88c-4993-8aaa-d7da4b571ee8"
      },
      "outputs": [
        {
          "output_type": "execute_result",
          "data": {
            "text/plain": [
              "Health Service Area                    6788\n",
              "Age Group                                 0\n",
              "Gender                                    0\n",
              "Race                                      0\n",
              "Ethnicity                                 0\n",
              "Length of Stay                            0\n",
              "Type of Admission                         0\n",
              "APR MDC Description                       0\n",
              "APR Severity of Illness Description      89\n",
              "APR Risk of Mortality                    89\n",
              "APR Medical Surgical Description          0\n",
              "dtype: int64"
            ]
          },
          "metadata": {},
          "execution_count": 110
        }
      ],
      "source": [
        "df.isnull().sum()"
      ]
    },
    {
      "cell_type": "code",
      "execution_count": null,
      "metadata": {
        "colab": {
          "base_uri": "https://localhost:8080/"
        },
        "id": "Ecr5qj6vO5nk",
        "outputId": "40616cde-2c36-40a7-b70f-6de448859ab5"
      },
      "outputs": [
        {
          "output_type": "execute_result",
          "data": {
            "text/plain": [
              "Health Service Area                    0\n",
              "Age Group                              0\n",
              "Gender                                 0\n",
              "Race                                   0\n",
              "Ethnicity                              0\n",
              "Length of Stay                         0\n",
              "Type of Admission                      0\n",
              "APR MDC Description                    0\n",
              "APR Severity of Illness Description    0\n",
              "APR Risk of Mortality                  0\n",
              "APR Medical Surgical Description       0\n",
              "dtype: int64"
            ]
          },
          "metadata": {},
          "execution_count": 111
        }
      ],
      "source": [
        "df = df.dropna()\n",
        "df.isnull().sum()\n",
        "\n",
        "#Data Cleaned, no missing values in dataset"
      ]
    },
    {
      "cell_type": "code",
      "execution_count": null,
      "metadata": {
        "colab": {
          "base_uri": "https://localhost:8080/"
        },
        "id": "vuw0RMDlO5nk",
        "outputId": "e1bd9b48-ef77-481e-fb1b-9d4378153471"
      },
      "outputs": [
        {
          "output_type": "stream",
          "name": "stdout",
          "text": [
            "<class 'pandas.core.frame.DataFrame'>\n",
            "Int64Index: 2537668 entries, 0 to 2544542\n",
            "Data columns (total 11 columns):\n",
            " #   Column                               Dtype \n",
            "---  ------                               ----- \n",
            " 0   Health Service Area                  object\n",
            " 1   Age Group                            object\n",
            " 2   Gender                               object\n",
            " 3   Race                                 object\n",
            " 4   Ethnicity                            object\n",
            " 5   Length of Stay                       object\n",
            " 6   Type of Admission                    object\n",
            " 7   APR MDC Description                  object\n",
            " 8   APR Severity of Illness Description  object\n",
            " 9   APR Risk of Mortality                object\n",
            " 10  APR Medical Surgical Description     object\n",
            "dtypes: object(11)\n",
            "memory usage: 232.3+ MB\n"
          ]
        }
      ],
      "source": [
        "df.info()"
      ]
    },
    {
      "cell_type": "markdown",
      "metadata": {
        "id": "Hl9Xi_YsO5nl"
      },
      "source": [
        "# Plotting other attributes"
      ]
    },
    {
      "cell_type": "code",
      "execution_count": null,
      "metadata": {
        "id": "HniBi7w5O5nl"
      },
      "outputs": [],
      "source": [
        "x = df['Age Group'].value_counts(sort = True, ascending = True)"
      ]
    },
    {
      "cell_type": "code",
      "execution_count": null,
      "metadata": {
        "colab": {
          "base_uri": "https://localhost:8080/"
        },
        "id": "AnmrFX-RO5nl",
        "outputId": "33edc559-2c0b-4ad4-cb22-6c0f27309e77"
      },
      "outputs": [
        {
          "output_type": "execute_result",
          "data": {
            "text/plain": [
              "18 to 29       271501\n",
              "0 to 17        375140\n",
              "30 to 49       515379\n",
              "50 to 69       678209\n",
              "70 or Older    697439\n",
              "Name: Age Group, dtype: int64"
            ]
          },
          "metadata": {},
          "execution_count": 114
        }
      ],
      "source": [
        "df['Age Group'].value_counts(sort = True, ascending = True)"
      ]
    },
    {
      "cell_type": "code",
      "execution_count": null,
      "metadata": {
        "colab": {
          "base_uri": "https://localhost:8080/",
          "height": 517
        },
        "id": "IUv9ip-eO5nm",
        "outputId": "cb020758-0eb0-41ce-d098-e3886d0b21fe"
      },
      "outputs": [
        {
          "output_type": "display_data",
          "data": {
            "text/plain": [
              "<Figure size 640x480 with 1 Axes>"
            ],
            "image/png": "[encoded data removed]"
          },
          "metadata": {}
        }
      ],
      "source": [
        "x.plot.bar()\n",
        "plt.title(\"Age group\")\n",
        "plt.savefig(\"Plotbyage.png\")"
      ]
    },
    {
      "cell_type": "code",
      "execution_count": null,
      "metadata": {
        "colab": {
          "base_uri": "https://localhost:8080/"
        },
        "id": "Y4QAkitnO5nm",
        "outputId": "ddebda85-8002-4ad1-eec2-d6590f3ac8cb"
      },
      "outputs": [
        {
          "output_type": "execute_result",
          "data": {
            "text/plain": [
              "18 to 29       271501\n",
              "0 to 17        375140\n",
              "30 to 49       515379\n",
              "50 to 69       678209\n",
              "70 or Older    697439\n",
              "Name: Age Group, dtype: int64"
            ]
          },
          "metadata": {},
          "execution_count": 116
        }
      ],
      "source": [
        "df['Age Group'].value_counts(sort = True, ascending = True)"
      ]
    },
    {
      "cell_type": "code",
      "execution_count": null,
      "metadata": {
        "colab": {
          "base_uri": "https://localhost:8080/"
        },
        "id": "c8OAj1qqO5nn",
        "outputId": "195ef4f2-f219-4d54-b1b6-c884e2549108"
      },
      "outputs": [
        {
          "output_type": "execute_result",
          "data": {
            "text/plain": [
              "F    1425220\n",
              "M    1112415\n",
              "U         33\n",
              "Name: Gender, dtype: int64"
            ]
          },
          "metadata": {},
          "execution_count": 117
        }
      ],
      "source": [
        "df['Gender'].value_counts()\n",
        "#Unknown must be dropped"
      ]
    },
    {
      "cell_type": "code",
      "execution_count": null,
      "metadata": {
        "colab": {
          "base_uri": "https://localhost:8080/"
        },
        "id": "BdrXbkNFO5nn",
        "outputId": "264ff6b7-15f6-47e9-ec53-0a25e676b343"
      },
      "outputs": [
        {
          "output_type": "execute_result",
          "data": {
            "text/plain": [
              "F    1425220\n",
              "M    1112415\n",
              "Name: Gender, dtype: int64"
            ]
          },
          "metadata": {},
          "execution_count": 118
        }
      ],
      "source": [
        "#Dropped Unknown\n",
        "df.drop(df[df['Gender'] == 'U'].index, inplace = True)\n",
        "df['Gender'].value_counts()"
      ]
    },
    {
      "cell_type": "code",
      "execution_count": null,
      "metadata": {
        "colab": {
          "base_uri": "https://localhost:8080/",
          "height": 450
        },
        "id": "0Pb7uHKfO5no",
        "outputId": "1661cf5e-fb16-44b2-8bfd-60ca681755c5"
      },
      "outputs": [
        {
          "output_type": "display_data",
          "data": {
            "text/plain": [
              "<Figure size 640x480 with 1 Axes>"
            ],
            "image/png": "[encoded data removed]"
          },
          "metadata": {}
        }
      ],
      "source": [
        "x = df['Gender'].value_counts()\n",
        "x.plot.bar()\n",
        "plt.title(\"Gender\")\n",
        "plt.show()"
      ]
    },
    {
      "cell_type": "code",
      "execution_count": null,
      "metadata": {
        "scrolled": false,
        "colab": {
          "base_uri": "https://localhost:8080/"
        },
        "id": "iH5U05_BO5no",
        "outputId": "0189fb8d-d1ef-4c9b-e673-df1ce777d400"
      },
      "outputs": [
        {
          "output_type": "stream",
          "name": "stdout",
          "text": [
            "<class 'pandas.core.frame.DataFrame'>\n",
            "Int64Index: 2537635 entries, 0 to 2544542\n",
            "Data columns (total 11 columns):\n",
            " #   Column                               Dtype \n",
            "---  ------                               ----- \n",
            " 0   Health Service Area                  object\n",
            " 1   Age Group                            object\n",
            " 2   Gender                               object\n",
            " 3   Race                                 object\n",
            " 4   Ethnicity                            object\n",
            " 5   Length of Stay                       object\n",
            " 6   Type of Admission                    object\n",
            " 7   APR MDC Description                  object\n",
            " 8   APR Severity of Illness Description  object\n",
            " 9   APR Risk of Mortality                object\n",
            " 10  APR Medical Surgical Description     object\n",
            "dtypes: object(11)\n",
            "memory usage: 232.3+ MB\n"
          ]
        }
      ],
      "source": [
        "# Still need to change Dtype of columns to integers to properly compare them\n",
        "\n",
        "df.info()"
      ]
    },
    {
      "cell_type": "markdown",
      "metadata": {
        "id": "IJTr2h0iO5np"
      },
      "source": [
        "# Final cleaning (Checking for unknown/strange values in columns)"
      ]
    },
    {
      "cell_type": "code",
      "execution_count": null,
      "metadata": {
        "colab": {
          "base_uri": "https://localhost:8080/"
        },
        "id": "lR31jj3ZO5np",
        "outputId": "3ff9d2a1-5743-4b68-dcb3-c7a7e80836b8"
      },
      "outputs": [
        {
          "output_type": "execute_result",
          "data": {
            "text/plain": [
              "array(['Western NY', 'Finger Lakes', 'Central NY', 'Southern Tier',\n",
              "       'Capital/Adirond', 'Hudson Valley', 'New York City', 'Long Island'],\n",
              "      dtype=object)"
            ]
          },
          "metadata": {},
          "execution_count": 121
        }
      ],
      "source": [
        "df['Health Service Area'].unique()"
      ]
    },
    {
      "cell_type": "code",
      "source": [
        "df['Length of Stay'].unique()"
      ],
      "metadata": {
        "colab": {
          "base_uri": "https://localhost:8080/"
        },
        "id": "LjYq3hDCHrmj",
        "outputId": "c862afe4-eaf1-46b0-d236-469f94979d9d"
      },
      "execution_count": null,
      "outputs": [
        {
          "output_type": "execute_result",
          "data": {
            "text/plain": [
              "array(['4', '3', '1', '2', '5', '6', '14', '12', '9', '8', '10', '7',\n",
              "       '22', '11', '16', '15', '25', '13', '17', '28', '18', '19', '23',\n",
              "       '38', '20', '24', '26', '21', '27', '30', '29', '39', '87', '35',\n",
              "       '37', '32', '55', '56', '49', '110', '69', '75', '42', '41', '51',\n",
              "       '47', '45', '46', '40', '34', '79', '43', '120 +', '65', '53',\n",
              "       '31', '50', '59', '44', '36', '70', '115', '58', '94', '33', '68',\n",
              "       '67', '54', '80', '85', '95', '78', '91', '88', '48', '52', '63',\n",
              "       '57', '74', '64', '62', '97', '72', '118', '81', '90', '86', '106',\n",
              "       '112', '105', '114', '66', '89', '83', '84', '82', '93', '116',\n",
              "       '71', '60', '73', '61', '92', '76', '96', '77', '104', '100',\n",
              "       '103', '102', '117', '108', '99', '107', '98', '101', '119', '111',\n",
              "       '109', '113', 2, 1, 8, 5, 3, 10, 6, 7, 9, 12, 11, 15, 18, 4, 20,\n",
              "       19, 14, 21, 16, 13, 17, 27, 25, 23, 31, 32, 26, 84, 71, 34, 28, 30,\n",
              "       22, 36, 24, 44, 29, 43, 33, 74, 56, 40, 47, 37, 38, 54, 48, 45, 35,\n",
              "       61, 41, 102, 42, 46, 53, 95, 52, 50, 63, 39, 55, 77, 58, 73, 90,\n",
              "       99, 91, 66, 86, 69, 70, 65, 59, 72, 76, 60, 75, 51, 79, 68, 62, 49,\n",
              "       98, 94, 64, 57, 78, 81, 97, 87, 67, 104, 83, 88], dtype=object)"
            ]
          },
          "metadata": {},
          "execution_count": 122
        }
      ]
    },
    {
      "cell_type": "code",
      "source": [
        "df['Length of Stay'].replace([\"120 +\"], [121], inplace = True)"
      ],
      "metadata": {
        "id": "qh2SLu4XJfNp"
      },
      "execution_count": null,
      "outputs": []
    },
    {
      "cell_type": "code",
      "source": [
        "df[\"Length of Stay\"] = list(map(lambda x: int(x) ,df[\"Length of Stay\"].tolist()))"
      ],
      "metadata": {
        "id": "l25Z1mvJLvhk"
      },
      "execution_count": null,
      "outputs": []
    },
    {
      "cell_type": "code",
      "source": [
        "df['Length of Stay'].unique()"
      ],
      "metadata": {
        "colab": {
          "base_uri": "https://localhost:8080/"
        },
        "id": "8ihhwNg3MHQ6",
        "outputId": "25364c35-9e0f-406d-b69e-aca65f0f0484"
      },
      "execution_count": null,
      "outputs": [
        {
          "output_type": "execute_result",
          "data": {
            "text/plain": [
              "array([  4,   3,   1,   2,   5,   6,  14,  12,   9,   8,  10,   7,  22,\n",
              "        11,  16,  15,  25,  13,  17,  28,  18,  19,  23,  38,  20,  24,\n",
              "        26,  21,  27,  30,  29,  39,  87,  35,  37,  32,  55,  56,  49,\n",
              "       110,  69,  75,  42,  41,  51,  47,  45,  46,  40,  34,  79,  43,\n",
              "       121,  65,  53,  31,  50,  59,  44,  36,  70, 115,  58,  94,  33,\n",
              "        68,  67,  54,  80,  85,  95,  78,  91,  88,  48,  52,  63,  57,\n",
              "        74,  64,  62,  97,  72, 118,  81,  90,  86, 106, 112, 105, 114,\n",
              "        66,  89,  83,  84,  82,  93, 116,  71,  60,  73,  61,  92,  76,\n",
              "        96,  77, 104, 100, 103, 102, 117, 108,  99, 107,  98, 101, 119,\n",
              "       111, 109, 113])"
            ]
          },
          "metadata": {},
          "execution_count": 125
        }
      ]
    },
    {
      "cell_type": "code",
      "source": [
        "# df['Length of Stay'].replace(range(1, 31), 1, inplace=True)\n",
        "# df['Length of Stay'].replace(range(31, 120), 2, inplace=True)\n",
        "# df['Length of Stay'].replace(range(120, 122), 3, inplace=True)"
      ],
      "metadata": {
        "id": "iz0wYyeHqfX2"
      },
      "execution_count": null,
      "outputs": []
    },
    {
      "cell_type": "code",
      "source": [
        "df['Length of Stay'].unique()"
      ],
      "metadata": {
        "colab": {
          "base_uri": "https://localhost:8080/"
        },
        "id": "RBs9sS4Cr45e",
        "outputId": "3ef30114-273f-452d-85fd-a3c56383a0cc"
      },
      "execution_count": null,
      "outputs": [
        {
          "output_type": "execute_result",
          "data": {
            "text/plain": [
              "array([  4,   3,   1,   2,   5,   6,  14,  12,   9,   8,  10,   7,  22,\n",
              "        11,  16,  15,  25,  13,  17,  28,  18,  19,  23,  38,  20,  24,\n",
              "        26,  21,  27,  30,  29,  39,  87,  35,  37,  32,  55,  56,  49,\n",
              "       110,  69,  75,  42,  41,  51,  47,  45,  46,  40,  34,  79,  43,\n",
              "       121,  65,  53,  31,  50,  59,  44,  36,  70, 115,  58,  94,  33,\n",
              "        68,  67,  54,  80,  85,  95,  78,  91,  88,  48,  52,  63,  57,\n",
              "        74,  64,  62,  97,  72, 118,  81,  90,  86, 106, 112, 105, 114,\n",
              "        66,  89,  83,  84,  82,  93, 116,  71,  60,  73,  61,  92,  76,\n",
              "        96,  77, 104, 100, 103, 102, 117, 108,  99, 107,  98, 101, 119,\n",
              "       111, 109, 113])"
            ]
          },
          "metadata": {},
          "execution_count": 127
        }
      ]
    },
    {
      "cell_type": "code",
      "source": [
        "df.info()"
      ],
      "metadata": {
        "colab": {
          "base_uri": "https://localhost:8080/"
        },
        "id": "taSNqUQNt1AY",
        "outputId": "58b00a10-544e-4adc-c850-caa52d556761"
      },
      "execution_count": null,
      "outputs": [
        {
          "output_type": "stream",
          "name": "stdout",
          "text": [
            "<class 'pandas.core.frame.DataFrame'>\n",
            "Int64Index: 2537635 entries, 0 to 2544542\n",
            "Data columns (total 11 columns):\n",
            " #   Column                               Dtype \n",
            "---  ------                               ----- \n",
            " 0   Health Service Area                  object\n",
            " 1   Age Group                            object\n",
            " 2   Gender                               object\n",
            " 3   Race                                 object\n",
            " 4   Ethnicity                            object\n",
            " 5   Length of Stay                       int64 \n",
            " 6   Type of Admission                    object\n",
            " 7   APR MDC Description                  object\n",
            " 8   APR Severity of Illness Description  object\n",
            " 9   APR Risk of Mortality                object\n",
            " 10  APR Medical Surgical Description     object\n",
            "dtypes: int64(1), object(10)\n",
            "memory usage: 232.3+ MB\n"
          ]
        }
      ]
    },
    {
      "cell_type": "markdown",
      "source": [
        "# Creating Unique values"
      ],
      "metadata": {
        "id": "6-K6cNfSuIll"
      }
    },
    {
      "cell_type": "code",
      "execution_count": null,
      "metadata": {
        "colab": {
          "base_uri": "https://localhost:8080/"
        },
        "outputId": "7ae56c38-8be6-40a5-b4d4-9a31cd50f965",
        "id": "-u_CFlDNOI7Y"
      },
      "outputs": [
        {
          "output_type": "stream",
          "name": "stdout",
          "text": [
            "\n",
            "Health Service Area\n",
            "['Western NY' 'Finger Lakes' 'Central NY' 'Southern Tier'\n",
            " 'Capital/Adirond' 'Hudson Valley' 'New York City' 'Long Island']\n",
            "\n",
            "\n",
            "Age Group\n",
            "['30 to 49' '70 or Older' '0 to 17' '18 to 29' '50 to 69']\n",
            "\n",
            "\n",
            "Gender\n",
            "['F' 'M']\n",
            "\n",
            "\n",
            "Race\n",
            "['White' 'Black/African American' 'Other Race' 'Unknown']\n",
            "\n",
            "\n",
            "Ethnicity\n",
            "['Not Span/Hispanic' 'Spanish/Hispanic' 'Unknown']\n",
            "\n",
            "\n",
            "Length of Stay\n",
            "[  4   3   1   2   5   6  14  12   9   8  10   7  22  11  16  15  25  13\n",
            "  17  28  18  19  23  38  20  24  26  21  27  30  29  39  87  35  37  32\n",
            "  55  56  49 110  69  75  42  41  51  47  45  46  40  34  79  43 121  65\n",
            "  53  31  50  59  44  36  70 115  58  94  33  68  67  54  80  85  95  78\n",
            "  91  88  48  52  63  57  74  64  62  97  72 118  81  90  86 106 112 105\n",
            " 114  66  89  83  84  82  93 116  71  60  73  61  92  76  96  77 104 100\n",
            " 103 102 117 108  99 107  98 101 119 111 109 113]\n",
            "\n",
            "\n",
            "Type of Admission\n",
            "['Elective' 'Urgent' 'Emergency' 'Newborn' 'Not Available' 'Trauma']\n",
            "\n",
            "\n",
            "APR MDC Description\n",
            "['Diseases and Disorders of the Respiratory System'\n",
            " 'Diseases and Disorders of the Skin, Subcutaneous Tissue and Breast'\n",
            " 'Diseases and Disorders of the Digestive System'\n",
            " 'Ear, Nose, Mouth, Throat and Craniofacial Diseases and Disorders'\n",
            " 'Diseases and Disorders of the Kidney and Urinary Tract'\n",
            " 'Infectious and Parasitic Diseases, Systemic or Unspecified Sites'\n",
            " 'Endocrine, Nutritional and Metabolic Diseases and Disorders'\n",
            " 'Poisonings, Toxic Effects, Other Injuries and Other Complications of Treatment'\n",
            " 'Diseases and Disorders of the Circulatory System'\n",
            " 'Diseases and Disorders of the Musculoskeletal System and Conn Tissue'\n",
            " 'Diseases and Disorders of the Nervous System'\n",
            " 'Rehabilitation, Aftercare, Other Factors Influencing Health Status and Other Health Service Contacts'\n",
            " 'Mental Diseases and Disorders'\n",
            " 'Diseases and Disorders of the Hepatobiliary System and Pancreas'\n",
            " 'Diseases and Disorders of the Female Reproductive System'\n",
            " 'Pregnancy, Childbirth and the Puerperium'\n",
            " 'Alcohol/Drug Use and Alcohol/Drug Induced Organic Mental Disorders'\n",
            " 'Newborns and Other Neonates with Conditions Originating in the Perinatal Period'\n",
            " 'Diseases and Disorders of Blood, Blood Forming Organs and Immunological Disorders'\n",
            " 'Human Immunodeficiency Virus Infections'\n",
            " 'Diseases and Disorders of the Eye' 'Multiple Significant Trauma'\n",
            " 'Diseases and Disorders of the Male Reproductive System'\n",
            " 'Lymphatic, Hematopoietic, Other Malignancies, Chemotherapy and Radiotherapy'\n",
            " 'Burns']\n",
            "\n",
            "\n",
            "APR Severity of Illness Description\n",
            "['Minor' 'Major' 'Moderate' 'Extreme']\n",
            "\n",
            "\n",
            "APR Risk of Mortality\n",
            "['Minor' 'Major' 'Moderate' 'Extreme']\n",
            "\n",
            "\n",
            "APR Medical Surgical Description\n",
            "['Medical' 'Surgical']\n",
            "\n"
          ]
        }
      ],
      "source": [
        "#All unique values in columns\n",
        "columns = df.columns.tolist()\n",
        "#columns\n",
        "for i in columns:\n",
        "    print(\"\\n\"+ i)\n",
        "    print(df[i].unique())\n",
        "    print(\"\")"
      ]
    },
    {
      "cell_type": "code",
      "execution_count": null,
      "metadata": {
        "colab": {
          "base_uri": "https://localhost:8080/"
        },
        "outputId": "11de8462-802d-4c6d-e28d-bc5664c1852f",
        "id": "EZ1KYdedOH2g"
      },
      "outputs": [
        {
          "output_type": "stream",
          "name": "stdout",
          "text": [
            "\n",
            "Health Service Area\n",
            "['Western NY' 'Finger Lakes' 'Central NY' 'Southern Tier'\n",
            " 'Capital/Adirond' 'Hudson Valley' 'New York City' 'Long Island']\n",
            "\n",
            "\n",
            "Age Group\n",
            "['30 to 49' '70 or Older' '0 to 17' '18 to 29' '50 to 69']\n",
            "\n",
            "\n",
            "Gender\n",
            "['F' 'M']\n",
            "\n",
            "\n",
            "Race\n",
            "['White' 'Black/African American' 'Other Race' 'Unknown']\n",
            "\n",
            "\n",
            "Ethnicity\n",
            "['Not Span/Hispanic' 'Spanish/Hispanic' 'Unknown']\n",
            "\n",
            "\n",
            "Length of Stay\n",
            "[  4   3   1   2   5   6  14  12   9   8  10   7  22  11  16  15  25  13\n",
            "  17  28  18  19  23  38  20  24  26  21  27  30  29  39  87  35  37  32\n",
            "  55  56  49 110  69  75  42  41  51  47  45  46  40  34  79  43 121  65\n",
            "  53  31  50  59  44  36  70 115  58  94  33  68  67  54  80  85  95  78\n",
            "  91  88  48  52  63  57  74  64  62  97  72 118  81  90  86 106 112 105\n",
            " 114  66  89  83  84  82  93 116  71  60  73  61  92  76  96  77 104 100\n",
            " 103 102 117 108  99 107  98 101 119 111 109 113]\n",
            "\n",
            "\n",
            "Type of Admission\n",
            "['Elective' 'Urgent' 'Emergency' 'Newborn' 'Not Available' 'Trauma']\n",
            "\n",
            "\n",
            "APR MDC Description\n",
            "['Diseases and Disorders of the Respiratory System'\n",
            " 'Diseases and Disorders of the Skin, Subcutaneous Tissue and Breast'\n",
            " 'Diseases and Disorders of the Digestive System'\n",
            " 'Ear, Nose, Mouth, Throat and Craniofacial Diseases and Disorders'\n",
            " 'Diseases and Disorders of the Kidney and Urinary Tract'\n",
            " 'Infectious and Parasitic Diseases, Systemic or Unspecified Sites'\n",
            " 'Endocrine, Nutritional and Metabolic Diseases and Disorders'\n",
            " 'Poisonings, Toxic Effects, Other Injuries and Other Complications of Treatment'\n",
            " 'Diseases and Disorders of the Circulatory System'\n",
            " 'Diseases and Disorders of the Musculoskeletal System and Conn Tissue'\n",
            " 'Diseases and Disorders of the Nervous System'\n",
            " 'Rehabilitation, Aftercare, Other Factors Influencing Health Status and Other Health Service Contacts'\n",
            " 'Mental Diseases and Disorders'\n",
            " 'Diseases and Disorders of the Hepatobiliary System and Pancreas'\n",
            " 'Diseases and Disorders of the Female Reproductive System'\n",
            " 'Pregnancy, Childbirth and the Puerperium'\n",
            " 'Alcohol/Drug Use and Alcohol/Drug Induced Organic Mental Disorders'\n",
            " 'Newborns and Other Neonates with Conditions Originating in the Perinatal Period'\n",
            " 'Diseases and Disorders of Blood, Blood Forming Organs and Immunological Disorders'\n",
            " 'Human Immunodeficiency Virus Infections'\n",
            " 'Diseases and Disorders of the Eye' 'Multiple Significant Trauma'\n",
            " 'Diseases and Disorders of the Male Reproductive System'\n",
            " 'Lymphatic, Hematopoietic, Other Malignancies, Chemotherapy and Radiotherapy'\n",
            " 'Burns']\n",
            "\n",
            "\n",
            "APR Severity of Illness Description\n",
            "['Minor' 'Major' 'Moderate' 'Extreme']\n",
            "\n",
            "\n",
            "APR Risk of Mortality\n",
            "['Minor' 'Major' 'Moderate' 'Extreme']\n",
            "\n",
            "\n",
            "APR Medical Surgical Description\n",
            "['Medical' 'Surgical']\n",
            "\n"
          ]
        }
      ],
      "source": [
        "#All unique values in columns\n",
        "columns = df.columns.tolist()\n",
        "#columns\n",
        "for i in columns:\n",
        "    print(\"\\n\"+ i)\n",
        "    print(df[i].unique())\n",
        "    print(\"\")"
      ]
    },
    {
      "cell_type": "code",
      "execution_count": null,
      "metadata": {
        "id": "EXVDXMeXO5nq"
      },
      "outputs": [],
      "source": [
        "# Problem Columns (Unknown):\n",
        "# 1. Race\n",
        "# 2. Ethnicity\n",
        "\n",
        "# Problem Columns (Large Size):\n",
        "# 1. CCS Diagnosis Description\n",
        "# 2. CCS Procedure Description\n",
        "# 3. APR DRG Description\n",
        "# 4. APR MDC Description"
      ]
    },
    {
      "cell_type": "markdown",
      "metadata": {
        "id": "LVqwZ_BeO5nr"
      },
      "source": [
        "### Dealing with unknowns first"
      ]
    },
    {
      "cell_type": "code",
      "execution_count": null,
      "metadata": {
        "id": "Pa6YJnp2O5nr"
      },
      "outputs": [],
      "source": [
        "#df['Race'].value_counts()\n",
        "df.drop(df[df['Race'] == 'Unknown'].index, inplace = True)"
      ]
    },
    {
      "cell_type": "code",
      "execution_count": null,
      "metadata": {
        "colab": {
          "base_uri": "https://localhost:8080/"
        },
        "id": "FxlAwcbwO5nr",
        "outputId": "1efd4499-1599-4add-b822-63ca676aae97"
      },
      "outputs": [
        {
          "output_type": "execute_result",
          "data": {
            "text/plain": [
              "White                     1448734\n",
              "Other Race                 598034\n",
              "Black/African American     482444\n",
              "Name: Race, dtype: int64"
            ]
          },
          "metadata": {},
          "execution_count": 133
        }
      ],
      "source": [
        "# No more unknowns\n",
        "\n",
        "df['Race'].value_counts()"
      ]
    },
    {
      "cell_type": "code",
      "execution_count": null,
      "metadata": {
        "id": "CqYJQO7vO5ns"
      },
      "outputs": [],
      "source": [
        "# Dropping unknowns for Ethnicity and Gender\n",
        "\n",
        "df.drop(df[df['Ethnicity'] == 'Unknown'].index, inplace = True)"
      ]
    },
    {
      "cell_type": "code",
      "execution_count": null,
      "metadata": {
        "colab": {
          "base_uri": "https://localhost:8080/"
        },
        "id": "IzDVEFI3O5ns",
        "outputId": "d0e9505a-66b6-4ab6-d5c4-7d7d877ddf35"
      },
      "outputs": [
        {
          "output_type": "execute_result",
          "data": {
            "text/plain": [
              "Not Span/Hispanic    2093163\n",
              "Spanish/Hispanic      349252\n",
              "Name: Ethnicity, dtype: int64"
            ]
          },
          "metadata": {},
          "execution_count": 135
        }
      ],
      "source": [
        "# No more unknowns\n",
        "\n",
        "df['Ethnicity'].value_counts()"
      ]
    },
    {
      "cell_type": "code",
      "source": [
        "# Dropping unrelated for Type of Admission\n",
        "\n",
        "df.drop(df[df['Type of Admission'] == 'Newborn'].index, inplace = True)\n",
        "df.drop(df[df['Type of Admission'] == 'Not Available'].index, inplace = True)\n",
        "df['Type of Admission'].value_counts()"
      ],
      "metadata": {
        "colab": {
          "base_uri": "https://localhost:8080/"
        },
        "id": "sSpu12vSZXa3",
        "outputId": "884213c8-e76c-4a8e-950a-f7ae395c9a42"
      },
      "execution_count": null,
      "outputs": [
        {
          "output_type": "execute_result",
          "data": {
            "text/plain": [
              "Emergency    1538471\n",
              "Elective      472951\n",
              "Urgent        201750\n",
              "Trauma          3155\n",
              "Name: Type of Admission, dtype: int64"
            ]
          },
          "metadata": {},
          "execution_count": 136
        }
      ]
    },
    {
      "cell_type": "code",
      "source": [
        "# Uploading Dataframe as CSV to use \n",
        "df.to_csv('dataframe.csv', index = False)\n",
        "!cp dataframe.csv \"drive/My Drive/\""
      ],
      "metadata": {
        "id": "FAeHZYLvmT2q"
      },
      "execution_count": null,
      "outputs": []
    }
  ],
  "metadata": {
    "kernelspec": {
      "display_name": "Python 3",
      "language": "python",
      "name": "python3"
    },
    "language_info": {
      "codemirror_mode": {
        "name": "ipython",
        "version": 3
      },
      "file_extension": ".py",
      "mimetype": "text/x-python",
      "name": "python",
      "nbconvert_exporter": "python",
      "pygments_lexer": "ipython3",
      "version": "3.6.9"
    },
    "colab": {
      "provenance": [],
      "collapsed_sections": [
        "7OZMn8uNO5nU",
        "eEgUpfbUO5ng"
      ]
    },
    "accelerator": "GPU",
    "gpuClass": "standard"
  },
  "nbformat": 4,
  "nbformat_minor": 0
}